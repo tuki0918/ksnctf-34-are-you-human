{
 "cells": [
  {
   "cell_type": "code",
   "execution_count": 12,
   "metadata": {},
   "outputs": [
    {
     "name": "stdout",
     "output_type": "stream",
     "text": [
      "_________________________________________________________________\n",
      "Layer (type)                 Output Shape              Param #   \n",
      "=================================================================\n",
      "conv2d_1 (Conv2D)            (None, 30, 30, 32)        896       \n",
      "_________________________________________________________________\n",
      "conv2d_2 (Conv2D)            (None, 28, 28, 64)        18496     \n",
      "_________________________________________________________________\n",
      "max_pooling2d_1 (MaxPooling2 (None, 14, 14, 64)        0         \n",
      "_________________________________________________________________\n",
      "dropout_1 (Dropout)          (None, 14, 14, 64)        0         \n",
      "_________________________________________________________________\n",
      "flatten_1 (Flatten)          (None, 12544)             0         \n",
      "_________________________________________________________________\n",
      "dense_1 (Dense)              (None, 128)               1605760   \n",
      "_________________________________________________________________\n",
      "dropout_2 (Dropout)          (None, 128)               0         \n",
      "_________________________________________________________________\n",
      "dense_2 (Dense)              (None, 16)                2064      \n",
      "=================================================================\n",
      "Total params: 1,627,216\n",
      "Trainable params: 1,627,216\n",
      "Non-trainable params: 0\n",
      "_________________________________________________________________\n",
      "Found 4800 images belonging to 16 classes.\n"
     ]
    }
   ],
   "source": [
    "%matplotlib inline\n",
    "\n",
    "import cv2\n",
    "import numpy as np\n",
    "import matplotlib.pyplot as plt\n",
    "import os\n",
    "from keras.models import load_model\n",
    "from keras.preprocessing.image import ImageDataGenerator\n",
    "model = load_model('model-v0f-3ch.h5')\n",
    "model.summary()\n",
    "\n",
    "train_data_dir = '/Users/yuta/git/github.com/tuki0918/ksnctf-34-are-you-human/resources/dataset-manual-3ch/'\n",
    "\n",
    "img_height = 32\n",
    "img_width = 32\n",
    "batch_size = 32\n",
    "\n",
    "train_datagen = ImageDataGenerator(rescale=1./255)\n",
    "train_generator = train_datagen.flow_from_directory(\n",
    "    train_data_dir,\n",
    "#     color_mode='grayscale',\n",
    "    target_size=(img_height, img_width),\n",
    "    batch_size=batch_size)\n",
    "\n",
    "labels = dict((v, k) for k, v in train_generator.class_indices.items())\n",
    "\n",
    "def prepare_x(path, debug=False):\n",
    "    img = cv2.imread(path)\n",
    "    \n",
    "    if (debug):\n",
    "        plt.figure(figsize=(1,1))\n",
    "        plt.imshow(img)\n",
    "    \n",
    "    img_rows, img_cols = 32, 32\n",
    "    re_img = cv2.resize(img, (img_rows, img_cols))\n",
    "    re_img = re_img.astype('float32')\n",
    "    re_img /= 255\n",
    "    x = re_img.reshape(1, img_rows, img_cols, 3)\n",
    "    return x\n",
    "\n",
    "def predict_x(path, debug=False):\n",
    "    x = prepare_x(path, debug)\n",
    "    x_proba = model.predict(x)\n",
    "    x_classes = x_proba.argmax(axis=-1)\n",
    "    return x_classes[0]\n",
    "\n",
    "def ppp(path, debug=False):\n",
    "    x = predict_x(path, debug)\n",
    "    print(path, labels[x])"
   ]
  },
  {
   "cell_type": "code",
   "execution_count": 13,
   "metadata": {},
   "outputs": [],
   "source": [
    "import os\n",
    "\n",
    "base_path = '/Users/yuta/git/github.com/tuki0918/ksnctf-34-are-you-human/resources/dataset-prepare-2/'"
   ]
  },
  {
   "cell_type": "code",
   "execution_count": 14,
   "metadata": {},
   "outputs": [
    {
     "name": "stdout",
     "output_type": "stream",
     "text": [
      "/Users/yuta/git/github.com/tuki0918/ksnctf-34-are-you-human/resources/dataset-prepare-2/0000a250-29.png 1\n"
     ]
    },
    {
     "data": {
      "image/png": "[encoded data removed]",
      "text/plain": [
       "<Figure size 72x72 with 1 Axes>"
      ]
     },
     "metadata": {
      "needs_background": "light"
     },
     "output_type": "display_data"
    }
   ],
   "source": [
    "files_file = [\n",
    "    '0000a250-29.png',\n",
    "]\n",
    "\n",
    "for img_path in files_file:\n",
    "    try:\n",
    "         ppp(os.path.join(base_path, img_path), debug=True)\n",
    "    except Exception as e:\n",
    "        print(os.path.join(base_path, img_path), e)"
   ]
  },
  {
   "cell_type": "code",
   "execution_count": null,
   "metadata": {},
   "outputs": [],
   "source": []
  },
  {
   "cell_type": "code",
   "execution_count": 20,
   "metadata": {},
   "outputs": [
    {
     "name": "stdout",
     "output_type": "stream",
     "text": [
      "['8', 'F', 'B', 'C', 'F', 'E', '2', 'F', '0', '4', 'A', '5', 'F', '5', '1', '6', 'B', '4', 'D', '3', '2', '0', 'A', '8', '2', '7', 'A', '8', '2', '7', 'B', '7']\n"
     ]
    },
    {
     "data": {
      "image/png": "[encoded data removed]",
      "text/plain": [
       "<Figure size 2160x1080 with 1 Axes>"
      ]
     },
     "metadata": {
      "needs_background": "light"
     },
     "output_type": "display_data"
    }
   ],
   "source": [
    "resources_path = '/Users/yuta/git/github.com/tuki0918/ksnctf-34-are-you-human/resources/image/'\n",
    "\n",
    "def prepare_xz(img, debug=False):\n",
    "    img_rows, img_cols = 32, 32\n",
    "    re_img = cv2.resize(img, (img_rows, img_cols))\n",
    "    re_img = re_img.astype('float32')\n",
    "    re_img /= 255\n",
    "    x = re_img.reshape(1, img_rows, img_cols, 3)\n",
    "    return x\n",
    "\n",
    "def predict_xz(img, debug=False):\n",
    "    x = prepare_xz(img, debug)\n",
    "    x_proba = model.predict(x)\n",
    "    x_classes = x_proba.argmax(axis=-1)\n",
    "    return x_classes[0]\n",
    "\n",
    "def pppz(path, debug=False):\n",
    "    img = cv2.imread(path)\n",
    "\n",
    "    if (debug):\n",
    "        plt.figure(figsize=(30,15))\n",
    "        plt.imshow(img)\n",
    "\n",
    "    result = []\n",
    "    for i in range(32):\n",
    "\n",
    "        x = (32*i)\n",
    "        y = 0\n",
    "        w = 32\n",
    "        h = 32\n",
    "\n",
    "        try:\n",
    "            dist = img[y: y + h, x: x + w]\n",
    "            xz = predict_xz(dist, debug)\n",
    "            result.append(labels[xz])\n",
    "        except Exception as e:\n",
    "            print(path, e)\n",
    "            result.append('*')\n",
    "    return result\n",
    "\n",
    "try:\n",
    "    img_path = '000020c0.png'\n",
    "    result = pppz(os.path.join(resources_path, img_path), debug=True)\n",
    "    print(result)\n",
    "except Exception as e:\n",
    "    print(e)"
   ]
  },
  {
   "cell_type": "code",
   "execution_count": 101,
   "metadata": {},
   "outputs": [
    {
     "name": "stdout",
     "output_type": "stream",
     "text": [
      "7D3300498E5ED9BBCD3C52C3247FE241\n",
      "SCORE:  96.875 %\n",
      "IN     : ['7', 'D', '3', '3', '0', '0', '4', '9', '8', 'E', '5', 'E', 'D', '9', '@5', 'B', 'C', 'D', '3', 'C', '5', '2', 'C', '3', '2', '4', '7', 'F', 'E', '2', '4', '1']\n",
      "OUT : ['7', 'D', '3', '3', '0', '0', '4', '9', '8', 'E', '5', 'E', 'D', '9', '@B', 'B', 'C', 'D', '3', 'C', '5', '2', 'C', '3', '2', '4', '7', 'F', 'E', '2', '4', '1']\n"
     ]
    },
    {
     "data": {
      "image/png": "[encoded data removed]",
      "text/plain": [
       "<Figure size 2160x1080 with 1 Axes>"
      ]
     },
     "metadata": {
      "needs_background": "light"
     },
     "output_type": "display_data"
    }
   ],
   "source": [
    "try:\n",
    "    img_path = '000022e0.png'\n",
    "    result = pppz(os.path.join(resources_path, img_path), debug=True)\n",
    "    data = np.array(list('7D3300498E5ED95BCD3C52C3247FE241'))\n",
    "    score = (data == np.array(result))\n",
    "    count = np.sum(score)\n",
    "    print(''.join(result))\n",
    "    print('SCORE: ', (count / len(data))*100, '%')\n",
    "    if count != len(data):\n",
    "        print('IN     :', [data[i] if j else '@'+data[i] for i, j in enumerate(score)])\n",
    "        print('OUT :', [result[i] if j else '@'+result[i] for i, j in enumerate(score)])\n",
    "except Exception as e:\n",
    "    print(e)"
   ]
  },
  {
   "cell_type": "code",
   "execution_count": 100,
   "metadata": {},
   "outputs": [
    {
     "name": "stdout",
     "output_type": "stream",
     "text": [
      "6D168632C1F11FD78E710925A2DBCF19\n",
      "SCORE:  87.5 %\n",
      "IN     : ['6', 'D', '1', '6', '8', '6', '3', '2', 'C', '@7', 'F', '1', '@7', 'F', 'D', '7', '8', 'E', '7', '@4', '@6', '9', '2', '5', 'A', '2', 'D', 'B', 'C', 'F', '1', '9']\n",
      "OUT : ['6', 'D', '1', '6', '8', '6', '3', '2', 'C', '@1', 'F', '1', '@1', 'F', 'D', '7', '8', 'E', '7', '@1', '@0', '9', '2', '5', 'A', '2', 'D', 'B', 'C', 'F', '1', '9']\n"
     ]
    },
    {
     "data": {
      "image/png": "[encoded data removed]",
      "text/plain": [
       "<Figure size 2160x1080 with 1 Axes>"
      ]
     },
     "metadata": {
      "needs_background": "light"
     },
     "output_type": "display_data"
    }
   ],
   "source": [
    "try:\n",
    "    img_path = '000027b0.png'\n",
    "    result = pppz(os.path.join(resources_path, img_path), debug=True)\n",
    "    data = np.array(list('6D168632C7F17FD78E746925A2DBCF19'))\n",
    "    score = (data == np.array(result))\n",
    "    count = np.sum(score)\n",
    "    print(''.join(result))\n",
    "    print('SCORE: ', (count / len(data))*100, '%')\n",
    "    if count != len(data):\n",
    "        print('IN     :', [data[i] if j else '@'+data[i] for i, j in enumerate(score)])\n",
    "        print('OUT :', [result[i] if j else '@'+result[i] for i, j in enumerate(score)])\n",
    "except Exception as e:\n",
    "    print(e)"
   ]
  },
  {
   "cell_type": "code",
   "execution_count": 99,
   "metadata": {},
   "outputs": [
    {
     "name": "stdout",
     "output_type": "stream",
     "text": [
      "1F43AA7ADEE14C2C5E9A7AC2B7D2CF45\n",
      "SCORE:  100.0 %\n"
     ]
    },
    {
     "data": {
      "image/png": "[encoded data removed]",
      "text/plain": [
       "<Figure size 2160x1080 with 1 Axes>"
      ]
     },
     "metadata": {
      "needs_background": "light"
     },
     "output_type": "display_data"
    }
   ],
   "source": [
    "try:\n",
    "    img_path = '000097f0.png'\n",
    "    result = pppz(os.path.join(resources_path, img_path), debug=True)\n",
    "    data = np.array(list('1F43AA7ADEE14C2C5E9A7AC2B7D2CF45'))\n",
    "    score = (data == np.array(result))\n",
    "    count = np.sum(score)\n",
    "    print(''.join(result))\n",
    "    print('SCORE: ', (count / len(data))*100, '%')\n",
    "    if count != len(data):\n",
    "        print('IN     :', [data[i] if j else '@'+data[i] for i, j in enumerate(score)])\n",
    "        print('OUT :', [result[i] if j else '@'+result[i] for i, j in enumerate(score)])\n",
    "except Exception as e:\n",
    "    print(e)"
   ]
  },
  {
   "cell_type": "code",
   "execution_count": 103,
   "metadata": {},
   "outputs": [
    {
     "name": "stdout",
     "output_type": "stream",
     "text": [
      "68C3F0C6D6EDD36E0B74D9AA1C996F51\n",
      "SCORE:  100.0 %\n"
     ]
    },
    {
     "data": {
      "image/png": "[encoded data removed]",
      "text/plain": [
       "<Figure size 2160x1080 with 1 Axes>"
      ]
     },
     "metadata": {
      "needs_background": "light"
     },
     "output_type": "display_data"
    }
   ],
   "source": [
    "try:\n",
    "    img_path = '00019340.png'\n",
    "    result = pppz(os.path.join(resources_path, img_path), debug=True)\n",
    "    data = np.array(list('68C3F0C6D6EDD36E0B74D9AA1C996F51'))\n",
    "    score = (data == np.array(result))\n",
    "    count = np.sum(score)\n",
    "    print(''.join(result))\n",
    "    print('SCORE: ', (count / len(data))*100, '%')\n",
    "    if count != len(data):\n",
    "        print('IN     :', [data[i] if j else '@'+data[i] for i, j in enumerate(score)])\n",
    "        print('OUT :', [result[i] if j else '@'+result[i] for i, j in enumerate(score)])\n",
    "except Exception as e:\n",
    "    print(e)"
   ]
  },
  {
   "cell_type": "code",
   "execution_count": 105,
   "metadata": {},
   "outputs": [
    {
     "name": "stdout",
     "output_type": "stream",
     "text": [
      "A0F65F4421B1DA0CDC20E9059E1DAEF2\n",
      "SCORE:  93.75 %\n",
      "IN     : ['A', '0', 'F', '6', '5', 'F', '4', '4', '2', '1', 'B', '1', 'D', 'A', '@6', 'C', 'D', 'C', '2', '0', 'E', '9', '0', '5', '9', '@B', '1', 'D', 'A', 'E', 'F', '2']\n",
      "OUT : ['A', '0', 'F', '6', '5', 'F', '4', '4', '2', '1', 'B', '1', 'D', 'A', '@0', 'C', 'D', 'C', '2', '0', 'E', '9', '0', '5', '9', '@E', '1', 'D', 'A', 'E', 'F', '2']\n"
     ]
    },
    {
     "data": {
      "image/png": "[encoded data removed]",
      "text/plain": [
       "<Figure size 2160x1080 with 1 Axes>"
      ]
     },
     "metadata": {
      "needs_background": "light"
     },
     "output_type": "display_data"
    }
   ],
   "source": [
    "try:\n",
    "    img_path = '00019860.png'\n",
    "    result = pppz(os.path.join(resources_path, img_path), debug=True)\n",
    "    data = np.array(list('A0F65F4421B1DA6CDC20E9059B1DAEF2'))\n",
    "    score = (data == np.array(result))\n",
    "    count = np.sum(score)\n",
    "    print(''.join(result))\n",
    "    print('SCORE: ', (count / len(data))*100, '%')\n",
    "    if count != len(data):\n",
    "        print('IN     :', [data[i] if j else '@'+data[i] for i, j in enumerate(score)])\n",
    "        print('OUT :', [result[i] if j else '@'+result[i] for i, j in enumerate(score)])\n",
    "except Exception as e:\n",
    "    print(e)"
   ]
  },
  {
   "cell_type": "code",
   "execution_count": 106,
   "metadata": {},
   "outputs": [
    {
     "name": "stdout",
     "output_type": "stream",
     "text": [
      "04B365A099CCF81D96BE093406F79B8E\n",
      "SCORE:  3.125 %\n",
      "IN     : ['@A', '@0', '@F', '@6', '@5', '@F', '@4', '@4', '@2', '@1', '@B', '@1', '@D', '@A', '@6', '@C', '@D', '@C', '@2', '@0', '@E', '9', '@0', '@5', '@9', '@B', '@1', '@D', '@A', '@E', '@F', '@2']\n",
      "OUT : ['@0', '@4', '@B', '@3', '@6', '@5', '@A', '@0', '@9', '@9', '@C', '@C', '@F', '@8', '@1', '@D', '@9', '@6', '@B', '@E', '@0', '9', '@3', '@4', '@0', '@6', '@F', '@7', '@9', '@B', '@8', '@E']\n"
     ]
    },
    {
     "data": {
      "image/png": "[encoded data removed]",
      "text/plain": [
       "<Figure size 2160x1080 with 1 Axes>"
      ]
     },
     "metadata": {
      "needs_background": "light"
     },
     "output_type": "display_data"
    }
   ],
   "source": [
    "try:\n",
    "    img_path = '00019940.png'\n",
    "    result = pppz(os.path.join(resources_path, img_path), debug=True)\n",
    "    data = np.array(list('A0F65F4421B1DA6CDC20E9059B1DAEF2'))\n",
    "    score = (data == np.array(result))\n",
    "    count = np.sum(score)\n",
    "    print(''.join(result))\n",
    "    print('SCORE: ', (count / len(data))*100, '%')\n",
    "    if count != len(data):\n",
    "        print('IN     :', [data[i] if j else '@'+data[i] for i, j in enumerate(score)])\n",
    "        print('OUT :', [result[i] if j else '@'+result[i] for i, j in enumerate(score)])\n",
    "except Exception as e:\n",
    "    print(e)"
   ]
  },
  {
   "cell_type": "code",
   "execution_count": null,
   "metadata": {},
   "outputs": [],
   "source": [
    "04B365A099CCF81D96BE09340"
   ]
  }
 ],
 "metadata": {
  "kernelspec": {
   "display_name": "Python 3",
   "language": "python",
   "name": "python3"
  },
  "language_info": {
   "codemirror_mode": {
    "name": "ipython",
    "version": 3
   },
   "file_extension": ".py",
   "mimetype": "text/x-python",
   "name": "python",
   "nbconvert_exporter": "python",
   "pygments_lexer": "ipython3",
   "version": "3.7.2"
  }
 },
 "nbformat": 4,
 "nbformat_minor": 2
}
