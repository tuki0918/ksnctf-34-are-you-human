{
 "cells": [
  {
   "cell_type": "code",
   "execution_count": 1,
   "metadata": {},
   "outputs": [
    {
     "name": "stdout",
     "output_type": "stream",
     "text": [
      "7571\n"
     ]
    }
   ],
   "source": [
    "import os\n",
    "\n",
    "base_path = '/Users/yuta/git/github.com/tuki0918/ksnctf-34-are-you-human/resources/image/'\n",
    "\n",
    "files = os.listdir(base_path)\n",
    "files_file = [f for f in files if os.path.isfile(os.path.join(base_path, f))]\n",
    "# print(files_file)   # ['file1', 'file2.txt', 'file3.jpg']\n",
    "print(len(files_file))"
   ]
  },
  {
   "cell_type": "code",
   "execution_count": 2,
   "metadata": {},
   "outputs": [
    {
     "name": "stderr",
     "output_type": "stream",
     "text": [
      "Using TensorFlow backend.\n"
     ]
    },
    {
     "name": "stdout",
     "output_type": "stream",
     "text": [
      "_________________________________________________________________\n",
      "Layer (type)                 Output Shape              Param #   \n",
      "=================================================================\n",
      "conv2d_1 (Conv2D)            (None, 30, 30, 32)        896       \n",
      "_________________________________________________________________\n",
      "conv2d_2 (Conv2D)            (None, 28, 28, 64)        18496     \n",
      "_________________________________________________________________\n",
      "max_pooling2d_1 (MaxPooling2 (None, 14, 14, 64)        0         \n",
      "_________________________________________________________________\n",
      "dropout_1 (Dropout)          (None, 14, 14, 64)        0         \n",
      "_________________________________________________________________\n",
      "flatten_1 (Flatten)          (None, 12544)             0         \n",
      "_________________________________________________________________\n",
      "dense_1 (Dense)              (None, 128)               1605760   \n",
      "_________________________________________________________________\n",
      "dropout_2 (Dropout)          (None, 128)               0         \n",
      "_________________________________________________________________\n",
      "dense_2 (Dense)              (None, 16)                2064      \n",
      "=================================================================\n",
      "Total params: 1,627,216\n",
      "Trainable params: 1,627,216\n",
      "Non-trainable params: 0\n",
      "_________________________________________________________________\n",
      "Found 4800 images belonging to 16 classes.\n"
     ]
    }
   ],
   "source": [
    "%matplotlib inline\n",
    "\n",
    "import cv2\n",
    "import numpy as np\n",
    "import matplotlib.pyplot as plt\n",
    "import os\n",
    "from keras.models import load_model\n",
    "from keras.preprocessing.image import ImageDataGenerator\n",
    "model = load_model('model-v0f-3ch.h5')\n",
    "model.summary()\n",
    "\n",
    "train_data_dir = '/Users/yuta/git/github.com/tuki0918/ksnctf-34-are-you-human/resources/dataset-manual-3ch/'\n",
    "\n",
    "img_height = 32\n",
    "img_width = 32\n",
    "batch_size = 32\n",
    "\n",
    "train_datagen = ImageDataGenerator(rescale=1./255)\n",
    "train_generator = train_datagen.flow_from_directory(\n",
    "    train_data_dir,\n",
    "#     color_mode='grayscale',\n",
    "    target_size=(img_height, img_width),\n",
    "    batch_size=batch_size)\n",
    "\n",
    "labels = dict((v, k) for k, v in train_generator.class_indices.items())\n",
    "\n",
    "def prepare_xz(img, debug=False):\n",
    "    img_rows, img_cols = 32, 32\n",
    "    re_img = cv2.resize(img, (img_rows, img_cols))\n",
    "    re_img = re_img.astype('float32')\n",
    "    re_img /= 255\n",
    "    x = re_img.reshape(1, img_rows, img_cols, 3)\n",
    "    return x\n",
    "\n",
    "def predict_xz(img, debug=False):\n",
    "    x = prepare_xz(img, debug)\n",
    "    x_proba = model.predict(x)\n",
    "    x_classes = x_proba.argmax(axis=-1)\n",
    "    return x_classes[0]\n",
    "\n",
    "def pppz(path, debug=False):\n",
    "    img = cv2.imread(path)\n",
    "\n",
    "    if (debug):\n",
    "        plt.figure(figsize=(30,15))\n",
    "        plt.imshow(img)\n",
    "\n",
    "    result = []\n",
    "    for i in range(32):\n",
    "\n",
    "        x = (32*i)\n",
    "        y = 0\n",
    "        w = 32\n",
    "        h = 32\n",
    "\n",
    "        try:\n",
    "            dist = img[y: y + h, x: x + w]\n",
    "            xz = predict_xz(dist, debug)\n",
    "            result.append(labels[xz])\n",
    "        except Exception as e:\n",
    "            print(path, e)\n",
    "            result.append('*')\n",
    "    return result"
   ]
  },
  {
   "cell_type": "code",
   "execution_count": 6,
   "metadata": {},
   "outputs": [
    {
     "ename": "AttributeError",
     "evalue": "'list' object has no attribute 'shape'",
     "output_type": "error",
     "traceback": [
      "\u001b[0;31m---------------------------------------------------------------------------\u001b[0m",
      "\u001b[0;31mAttributeError\u001b[0m                            Traceback (most recent call last)",
      "\u001b[0;32m<ipython-input-6-09771176d188>\u001b[0m in \u001b[0;36m<module>\u001b[0;34m\u001b[0m\n\u001b[1;32m     16\u001b[0m         \u001b[0mprint\u001b[0m\u001b[0;34m(\u001b[0m\u001b[0me\u001b[0m\u001b[0;34m)\u001b[0m\u001b[0;34m\u001b[0m\u001b[0;34m\u001b[0m\u001b[0m\n\u001b[1;32m     17\u001b[0m \u001b[0;34m\u001b[0m\u001b[0m\n\u001b[0;32m---> 18\u001b[0;31m \u001b[0mprint\u001b[0m\u001b[0;34m(\u001b[0m\u001b[0mmatrix\u001b[0m\u001b[0;34m.\u001b[0m\u001b[0mshape\u001b[0m\u001b[0;34m)\u001b[0m\u001b[0;34m\u001b[0m\u001b[0;34m\u001b[0m\u001b[0m\n\u001b[0m",
      "\u001b[0;31mAttributeError\u001b[0m: 'list' object has no attribute 'shape'"
     ]
    }
   ],
   "source": [
    "import numpy as np\n",
    "import pandas as pd\n",
    "\n",
    "matrix = []\n",
    "\n",
    "for img_path in files_file:\n",
    "\n",
    "    try:\n",
    "        img_name, img_ext = os.path.splitext(img_path)\n",
    "        img_name_10num = int(img_name, 16)\n",
    "        result = pppz(os.path.join(base_path, img_path), debug=False)\n",
    "        result_code = ''.join(result)\n",
    "        record = [img_name, img_name_10num, result_code]\n",
    "        matrix.append(record)\n",
    "    except Exception as e:\n",
    "        print(e)\n",
    "\n",
    "print(matrix.shape)"
   ]
  },
  {
   "cell_type": "code",
   "execution_count": 7,
   "metadata": {},
   "outputs": [
    {
     "name": "stdout",
     "output_type": "stream",
     "text": [
      "(7571, 3)\n"
     ]
    },
    {
     "data": {
      "text/html": [
       "<div>\n",
       "<style scoped>\n",
       "    .dataframe tbody tr th:only-of-type {\n",
       "        vertical-align: middle;\n",
       "    }\n",
       "\n",
       "    .dataframe tbody tr th {\n",
       "        vertical-align: top;\n",
       "    }\n",
       "\n",
       "    .dataframe thead th {\n",
       "        text-align: right;\n",
       "    }\n",
       "</style>\n",
       "<table border=\"1\" class=\"dataframe\">\n",
       "  <thead>\n",
       "    <tr style=\"text-align: right;\">\n",
       "      <th></th>\n",
       "      <th>name</th>\n",
       "      <th>num</th>\n",
       "      <th>result</th>\n",
       "    </tr>\n",
       "  </thead>\n",
       "  <tbody>\n",
       "    <tr>\n",
       "      <th>0</th>\n",
       "      <td>0000da40</td>\n",
       "      <td>55872</td>\n",
       "      <td>13AF2F6E000CED34503DB8D697443B6A</td>\n",
       "    </tr>\n",
       "    <tr>\n",
       "      <th>1</th>\n",
       "      <td>0000e580</td>\n",
       "      <td>58752</td>\n",
       "      <td>3DD9E0425F335D7CD294CF0E0435359B</td>\n",
       "    </tr>\n",
       "    <tr>\n",
       "      <th>2</th>\n",
       "      <td>00013aa0</td>\n",
       "      <td>80544</td>\n",
       "      <td>82C69F2EFB6B06C66EF193F1B6DB5490</td>\n",
       "    </tr>\n",
       "    <tr>\n",
       "      <th>3</th>\n",
       "      <td>00002940</td>\n",
       "      <td>10560</td>\n",
       "      <td>08E1215816763408B99C79FD474253A1</td>\n",
       "    </tr>\n",
       "    <tr>\n",
       "      <th>4</th>\n",
       "      <td>0000a080</td>\n",
       "      <td>41088</td>\n",
       "      <td>CDDDBED7962F62AE18C83779ABEAF5B3</td>\n",
       "    </tr>\n",
       "  </tbody>\n",
       "</table>\n",
       "</div>"
      ],
      "text/plain": [
       "       name    num                            result\n",
       "0  0000da40  55872  13AF2F6E000CED34503DB8D697443B6A\n",
       "1  0000e580  58752  3DD9E0425F335D7CD294CF0E0435359B\n",
       "2  00013aa0  80544  82C69F2EFB6B06C66EF193F1B6DB5490\n",
       "3  00002940  10560  08E1215816763408B99C79FD474253A1\n",
       "4  0000a080  41088  CDDDBED7962F62AE18C83779ABEAF5B3"
      ]
     },
     "execution_count": 7,
     "metadata": {},
     "output_type": "execute_result"
    }
   ],
   "source": [
    "matrix = np.array(matrix)\n",
    "print(matrix.shape)\n",
    "\n",
    "df = pd.DataFrame(matrix, columns=['name', 'num', 'result'])\n",
    "df.head()"
   ]
  },
  {
   "cell_type": "code",
   "execution_count": 20,
   "metadata": {},
   "outputs": [
    {
     "data": {
      "text/html": [
       "<div>\n",
       "<style scoped>\n",
       "    .dataframe tbody tr th:only-of-type {\n",
       "        vertical-align: middle;\n",
       "    }\n",
       "\n",
       "    .dataframe tbody tr th {\n",
       "        vertical-align: top;\n",
       "    }\n",
       "\n",
       "    .dataframe thead th {\n",
       "        text-align: right;\n",
       "    }\n",
       "</style>\n",
       "<table border=\"1\" class=\"dataframe\">\n",
       "  <thead>\n",
       "    <tr style=\"text-align: right;\">\n",
       "      <th></th>\n",
       "      <th>name</th>\n",
       "      <th>num</th>\n",
       "      <th>result</th>\n",
       "      <th>num2</th>\n",
       "    </tr>\n",
       "  </thead>\n",
       "  <tbody>\n",
       "    <tr>\n",
       "      <th>1674</th>\n",
       "      <td>00000000</td>\n",
       "      <td>0</td>\n",
       "      <td>FFD8FFE1001845786966000049492800</td>\n",
       "      <td>0</td>\n",
       "    </tr>\n",
       "    <tr>\n",
       "      <th>237</th>\n",
       "      <td>00000010</td>\n",
       "      <td>16</td>\n",
       "      <td>080000000000000000000D00FFEC0011</td>\n",
       "      <td>16</td>\n",
       "    </tr>\n",
       "    <tr>\n",
       "      <th>7308</th>\n",
       "      <td>00000020</td>\n",
       "      <td>32</td>\n",
       "      <td>4475636B190001000400D0003C0000FF</td>\n",
       "      <td>32</td>\n",
       "    </tr>\n",
       "    <tr>\n",
       "      <th>5914</th>\n",
       "      <td>00000030</td>\n",
       "      <td>48</td>\n",
       "      <td>EE000E41646F62650064C000000001FF</td>\n",
       "      <td>48</td>\n",
       "    </tr>\n",
       "    <tr>\n",
       "      <th>4933</th>\n",
       "      <td>00000040</td>\n",
       "      <td>64</td>\n",
       "      <td>DB0084000604040D0504060505060906</td>\n",
       "      <td>64</td>\n",
       "    </tr>\n",
       "  </tbody>\n",
       "</table>\n",
       "</div>"
      ],
      "text/plain": [
       "          name num                            result  num2\n",
       "1674  00000000   0  FFD8FFE1001845786966000049492800     0\n",
       "237   00000010  16  080000000000000000000D00FFEC0011    16\n",
       "7308  00000020  32  4475636B190001000400D0003C0000FF    32\n",
       "5914  00000030  48  EE000E41646F62650064C000000001FF    48\n",
       "4933  00000040  64  DB0084000604040D0504060505060906    64"
      ]
     },
     "execution_count": 20,
     "metadata": {},
     "output_type": "execute_result"
    }
   ],
   "source": [
    "df['num2'] = df['num'].astype(int)\n",
    "df_s = df.sort_values('num2', ascending=True)\n",
    "df_s.head()"
   ]
  },
  {
   "cell_type": "code",
   "execution_count": 21,
   "metadata": {},
   "outputs": [
    {
     "data": {
      "text/html": [
       "<div>\n",
       "<style scoped>\n",
       "    .dataframe tbody tr th:only-of-type {\n",
       "        vertical-align: middle;\n",
       "    }\n",
       "\n",
       "    .dataframe tbody tr th {\n",
       "        vertical-align: top;\n",
       "    }\n",
       "\n",
       "    .dataframe thead th {\n",
       "        text-align: right;\n",
       "    }\n",
       "</style>\n",
       "<table border=\"1\" class=\"dataframe\">\n",
       "  <thead>\n",
       "    <tr style=\"text-align: right;\">\n",
       "      <th></th>\n",
       "      <th>name</th>\n",
       "      <th>num</th>\n",
       "      <th>result</th>\n",
       "      <th>num2</th>\n",
       "    </tr>\n",
       "  </thead>\n",
       "  <tbody>\n",
       "    <tr>\n",
       "      <th>2443</th>\n",
       "      <td>0001d8e0</td>\n",
       "      <td>121056</td>\n",
       "      <td>4DFD5F48D85E627437F96B5EAEDE31BA</td>\n",
       "      <td>121056</td>\n",
       "    </tr>\n",
       "    <tr>\n",
       "      <th>4782</th>\n",
       "      <td>0001d8f0</td>\n",
       "      <td>121072</td>\n",
       "      <td>7A389C7588F3938F2D217E36F2665490</td>\n",
       "      <td>121072</td>\n",
       "    </tr>\n",
       "    <tr>\n",
       "      <th>6487</th>\n",
       "      <td>0001d900</td>\n",
       "      <td>121088</td>\n",
       "      <td>23953A97522E3E3D3998487AB9F15768</td>\n",
       "      <td>121088</td>\n",
       "    </tr>\n",
       "    <tr>\n",
       "      <th>6755</th>\n",
       "      <td>0001d910</td>\n",
       "      <td>121104</td>\n",
       "      <td>A652AF85BD5D9E4CFEFFE21E20B2A9B8</td>\n",
       "      <td>121104</td>\n",
       "    </tr>\n",
       "    <tr>\n",
       "      <th>596</th>\n",
       "      <td>0001d920</td>\n",
       "      <td>121120</td>\n",
       "      <td>689C1A88D08203F197F1411FFFF14FFF</td>\n",
       "      <td>121120</td>\n",
       "    </tr>\n",
       "  </tbody>\n",
       "</table>\n",
       "</div>"
      ],
      "text/plain": [
       "          name     num                            result    num2\n",
       "2443  0001d8e0  121056  4DFD5F48D85E627437F96B5EAEDE31BA  121056\n",
       "4782  0001d8f0  121072  7A389C7588F3938F2D217E36F2665490  121072\n",
       "6487  0001d900  121088  23953A97522E3E3D3998487AB9F15768  121088\n",
       "6755  0001d910  121104  A652AF85BD5D9E4CFEFFE21E20B2A9B8  121104\n",
       "596   0001d920  121120  689C1A88D08203F197F1411FFFF14FFF  121120"
      ]
     },
     "execution_count": 21,
     "metadata": {},
     "output_type": "execute_result"
    }
   ],
   "source": [
    "df_s.tail()"
   ]
  },
  {
   "cell_type": "code",
   "execution_count": 23,
   "metadata": {},
   "outputs": [],
   "source": [
    "b_file = open('flag.jpg', 'w')\n",
    "\n",
    "for index, row in df_s.iterrows():\n",
    "    b_file.write(row.result)\n",
    "\n",
    "b_file.flush()\n",
    "b_file.close()"
   ]
  },
  {
   "cell_type": "code",
   "execution_count": null,
   "metadata": {},
   "outputs": [],
   "source": []
  }
 ],
 "metadata": {
  "kernelspec": {
   "display_name": "Python 3",
   "language": "python",
   "name": "python3"
  },
  "language_info": {
   "codemirror_mode": {
    "name": "ipython",
    "version": 3
   },
   "file_extension": ".py",
   "mimetype": "text/x-python",
   "name": "python",
   "nbconvert_exporter": "python",
   "pygments_lexer": "ipython3",
   "version": "3.7.2"
  }
 },
 "nbformat": 4,
 "nbformat_minor": 2
}
