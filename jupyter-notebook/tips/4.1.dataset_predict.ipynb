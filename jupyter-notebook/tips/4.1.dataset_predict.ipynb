{
 "cells": [
  {
   "cell_type": "code",
   "execution_count": 67,
   "metadata": {},
   "outputs": [
    {
     "name": "stdout",
     "output_type": "stream",
     "text": [
      "_________________________________________________________________\n",
      "Layer (type)                 Output Shape              Param #   \n",
      "=================================================================\n",
      "conv2d_1 (Conv2D)            (None, 30, 30, 32)        320       \n",
      "_________________________________________________________________\n",
      "conv2d_2 (Conv2D)            (None, 28, 28, 64)        18496     \n",
      "_________________________________________________________________\n",
      "max_pooling2d_1 (MaxPooling2 (None, 14, 14, 64)        0         \n",
      "_________________________________________________________________\n",
      "dropout_1 (Dropout)          (None, 14, 14, 64)        0         \n",
      "_________________________________________________________________\n",
      "flatten_1 (Flatten)          (None, 12544)             0         \n",
      "_________________________________________________________________\n",
      "dense_1 (Dense)              (None, 128)               1605760   \n",
      "_________________________________________________________________\n",
      "dropout_2 (Dropout)          (None, 128)               0         \n",
      "_________________________________________________________________\n",
      "dense_2 (Dense)              (None, 16)                2064      \n",
      "=================================================================\n",
      "Total params: 1,626,640\n",
      "Trainable params: 1,626,640\n",
      "Non-trainable params: 0\n",
      "_________________________________________________________________\n",
      "Found 4800 images belonging to 16 classes.\n"
     ]
    }
   ],
   "source": [
    "%matplotlib inline\n",
    "\n",
    "import cv2\n",
    "import numpy as np\n",
    "import matplotlib.pyplot as plt\n",
    "import os\n",
    "from keras.models import load_model\n",
    "from keras.preprocessing.image import ImageDataGenerator\n",
    "model = load_model('model-v0f.h5')\n",
    "model.summary()\n",
    "\n",
    "train_data_dir = '/Users/yuta/git/github.com/tuki0918/ksnctf-34-are-you-human/resources/dataset-manual/'\n",
    "\n",
    "img_height = 32\n",
    "img_width = 32\n",
    "batch_size = 32\n",
    "\n",
    "train_datagen = ImageDataGenerator(rescale=1./255)\n",
    "train_generator = train_datagen.flow_from_directory(\n",
    "    train_data_dir,\n",
    "    color_mode='grayscale',\n",
    "    target_size=(img_height, img_width),\n",
    "    batch_size=batch_size)\n",
    "\n",
    "labels = dict((v, k) for k, v in train_generator.class_indices.items())\n",
    "\n",
    "def prepare_x(path, debug=False):\n",
    "    img = cv2.imread(path, cv2.IMREAD_GRAYSCALE)\n",
    "    \n",
    "    if (debug):\n",
    "        plt.figure(figsize=(1,1))\n",
    "        plt.imshow(img, cmap=plt.get_cmap('gray'))\n",
    "    \n",
    "    img_rows, img_cols = 32, 32\n",
    "    re_img = cv2.resize(img, (img_rows, img_cols))\n",
    "    re_img = re_img.astype('float32')\n",
    "    re_img /= 255\n",
    "    x = re_img.reshape(1, img_rows, img_cols, 1)\n",
    "    return x\n",
    "\n",
    "def predict_x(path, debug=False):\n",
    "    x = prepare_x(path, debug)\n",
    "    x_proba = model.predict(x)\n",
    "    x_classes = x_proba.argmax(axis=-1)\n",
    "    return x_classes[0]\n",
    "\n",
    "def ppp(path, debug=False):\n",
    "    x = predict_x(path, debug)\n",
    "    print(path, labels[x])"
   ]
  },
  {
   "cell_type": "code",
   "execution_count": 68,
   "metadata": {},
   "outputs": [],
   "source": [
    "import os\n",
    "\n",
    "base_path = '/Users/yuta/git/github.com/tuki0918/ksnctf-34-are-you-human/resources/dataset-prepare/'"
   ]
  },
  {
   "cell_type": "code",
   "execution_count": 73,
   "metadata": {},
   "outputs": [
    {
     "name": "stdout",
     "output_type": "stream",
     "text": [
      "/Users/yuta/git/github.com/tuki0918/ksnctf-34-are-you-human/resources/dataset-prepare/0000a250-29.png 1\n"
     ]
    },
    {
     "data": {
      "image/png": "[encoded data removed]",
      "text/plain": [
       "<Figure size 72x72 with 1 Axes>"
      ]
     },
     "metadata": {
      "needs_background": "light"
     },
     "output_type": "display_data"
    }
   ],
   "source": [
    "files_file = [\n",
    "    '0000a250-29.png',\n",
    "]\n",
    "\n",
    "for img_path in files_file:\n",
    "    try:\n",
    "         ppp(os.path.join(base_path, img_path), debug=True)\n",
    "    except Exception as e:\n",
    "        print(os.path.join(base_path, img_path), e)"
   ]
  },
  {
   "cell_type": "code",
   "execution_count": null,
   "metadata": {},
   "outputs": [],
   "source": [
    "resources_path = '/Users/yuta/git/github.com/tuki0918/ksnctf-34-are-you-human/resources/image/'\n",
    "\n",
    "\n",
    "\n",
    "def ppp(path, debug=False):\n",
    "    x = predict_x(path, debug)\n",
    "    print(path, labels[x])\n",
    "\n"
   ]
  },
  {
   "cell_type": "code",
   "execution_count": null,
   "metadata": {},
   "outputs": [],
   "source": []
  },
  {
   "cell_type": "code",
   "execution_count": null,
   "metadata": {},
   "outputs": [],
   "source": []
  }
 ],
 "metadata": {
  "kernelspec": {
   "display_name": "Python 3",
   "language": "python",
   "name": "python3"
  },
  "language_info": {
   "codemirror_mode": {
    "name": "ipython",
    "version": 3
   },
   "file_extension": ".py",
   "mimetype": "text/x-python",
   "name": "python",
   "nbconvert_exporter": "python",
   "pygments_lexer": "ipython3",
   "version": "3.7.2"
  }
 },
 "nbformat": 4,
 "nbformat_minor": 2
}
