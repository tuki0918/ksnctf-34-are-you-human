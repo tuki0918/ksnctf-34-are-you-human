{
 "cells": [
  {
   "cell_type": "code",
   "execution_count": 10,
   "metadata": {},
   "outputs": [
    {
     "data": {
      "text/plain": [
       "<matplotlib.image.AxesImage at 0x11ad1bc18>"
      ]
     },
     "execution_count": 10,
     "metadata": {},
     "output_type": "execute_result"
    },
    {
     "data": {
      "image/png": "[encoded data removed]",
      "text/plain": [
       "<Figure size 72x72 with 1 Axes>"
      ]
     },
     "metadata": {
      "needs_background": "light"
     },
     "output_type": "display_data"
    }
   ],
   "source": [
    "%matplotlib inline\n",
    "\n",
    "import cv2\n",
    "import numpy as np\n",
    "import matplotlib.pyplot as plt\n",
    "import os\n",
    "\n",
    "base_path = '/Users/yuta/git/github.com/tuki0918/ksnctf-34-are-you-human/resources/dataset-prepare/'\n",
    "\n",
    "img = cv2.imread(os.path.join(base_path, '0000a0c0-1.png'), cv2.IMREAD_GRAYSCALE)\n",
    "plt.figure(figsize=(1,1))\n",
    "plt.imshow(img)"
   ]
  },
  {
   "cell_type": "code",
   "execution_count": 11,
   "metadata": {},
   "outputs": [
    {
     "name": "stdout",
     "output_type": "stream",
     "text": [
      "(32, 32)\n"
     ]
    }
   ],
   "source": [
    "print(img.shape)"
   ]
  },
  {
   "cell_type": "code",
   "execution_count": 12,
   "metadata": {},
   "outputs": [
    {
     "name": "stdout",
     "output_type": "stream",
     "text": [
      "(28, 28)\n"
     ]
    },
    {
     "data": {
      "text/plain": [
       "<matplotlib.image.AxesImage at 0x11ad6a160>"
      ]
     },
     "execution_count": 12,
     "metadata": {},
     "output_type": "execute_result"
    },
    {
     "data": {
      "image/png": "[encoded data removed]",
      "text/plain": [
       "<Figure size 72x72 with 1 Axes>"
      ]
     },
     "metadata": {
      "needs_background": "light"
     },
     "output_type": "display_data"
    }
   ],
   "source": [
    "re_img = cv2.resize(img, (28, 28))\n",
    "\n",
    "print(re_img.shape)\n",
    "\n",
    "plt.figure(figsize=(1,1))\n",
    "plt.imshow(re_img)"
   ]
  },
  {
   "cell_type": "code",
   "execution_count": 17,
   "metadata": {},
   "outputs": [
    {
     "name": "stdout",
     "output_type": "stream",
     "text": [
      "(1, 1, 28, 28)\n",
      "(1, 28, 28)\n"
     ]
    }
   ],
   "source": [
    "# input image dimensions\n",
    "img_rows, img_cols = 28, 28\n",
    "\n",
    "x = re_img.reshape(1, 1, img_rows, img_cols)\n",
    "input_shape = (1, img_rows, img_cols)\n",
    "\n",
    "print(x.shape)\n",
    "print(input_shape)"
   ]
  },
  {
   "cell_type": "code",
   "execution_count": 48,
   "metadata": {},
   "outputs": [
    {
     "name": "stdout",
     "output_type": "stream",
     "text": [
      "_________________________________________________________________\n",
      "Layer (type)                 Output Shape              Param #   \n",
      "=================================================================\n",
      "conv2d_20 (Conv2D)           (None, 32, 26, 26)        320       \n",
      "_________________________________________________________________\n",
      "conv2d_21 (Conv2D)           (None, 64, 24, 24)        18496     \n",
      "_________________________________________________________________\n",
      "max_pooling2d_10 (MaxPooling (None, 64, 12, 12)        0         \n",
      "_________________________________________________________________\n",
      "dropout_19 (Dropout)         (None, 64, 12, 12)        0         \n",
      "_________________________________________________________________\n",
      "flatten_10 (Flatten)         (None, 9216)              0         \n",
      "_________________________________________________________________\n",
      "dense_20 (Dense)             (None, 128)               1179776   \n",
      "_________________________________________________________________\n",
      "dropout_20 (Dropout)         (None, 128)               0         \n",
      "_________________________________________________________________\n",
      "dense_21 (Dense)             (None, 10)                1290      \n",
      "=================================================================\n",
      "Total params: 1,199,882\n",
      "Trainable params: 1,199,882\n",
      "Non-trainable params: 0\n",
      "_________________________________________________________________\n"
     ]
    }
   ],
   "source": [
    "from keras.models import load_model\n",
    "model = load_model('model-mnist.h5')\n",
    "model.summary()"
   ]
  },
  {
   "cell_type": "code",
   "execution_count": 60,
   "metadata": {},
   "outputs": [],
   "source": [
    "def prepare_x(path):\n",
    "    img = cv2.imread(path, cv2.IMREAD_GRAYSCALE)\n",
    "    img_rows, img_cols = 28, 28\n",
    "    re_img = cv2.resize(img, (img_rows, img_cols))\n",
    "    re_img = re_img.astype('float32')\n",
    "    re_img /= 255\n",
    "    x = re_img.reshape(1, 1, img_rows, img_cols)\n",
    "    return x\n",
    "\n",
    "def predict_x(path):\n",
    "    x = prepare_x(path)\n",
    "    x_proba = model.predict(x)\n",
    "    x_classes = x_proba.argmax(axis=-1)\n",
    "\n",
    "    print(x_proba[0])\n",
    "    print(x_classes)\n",
    "\n",
    "    plt.figure(figsize=(1,1))\n",
    "    plt.imshow(cv2.imread(path), cmap=plt.get_cmap('gray'))"
   ]
  },
  {
   "cell_type": "code",
   "execution_count": 61,
   "metadata": {},
   "outputs": [
    {
     "name": "stdout",
     "output_type": "stream",
     "text": [
      "[0.0817486  0.07904384 0.10195122 0.05712328 0.06297657 0.06695538\n",
      " 0.05041384 0.07374984 0.36788654 0.05815089]\n",
      "[8]\n"
     ]
    },
    {
     "data": {
      "image/png": "[encoded data removed]",
      "text/plain": [
       "<Figure size 72x72 with 1 Axes>"
      ]
     },
     "metadata": {
      "needs_background": "light"
     },
     "output_type": "display_data"
    }
   ],
   "source": [
    "file_path = os.path.join(base_path, '0000fa90-23.png')\n",
    "x = predict_x(file_path)"
   ]
  },
  {
   "cell_type": "code",
   "execution_count": 62,
   "metadata": {},
   "outputs": [
    {
     "name": "stdout",
     "output_type": "stream",
     "text": [
      "[0.14297964 0.10484583 0.0789521  0.05759374 0.16209452 0.04772652\n",
      " 0.06393121 0.15789428 0.12009201 0.06389013]\n",
      "[4]\n"
     ]
    },
    {
     "data": {
      "image/png": "[encoded data removed]",
      "text/plain": [
       "<Figure size 72x72 with 1 Axes>"
      ]
     },
     "metadata": {
      "needs_background": "light"
     },
     "output_type": "display_data"
    }
   ],
   "source": [
    "file_path = os.path.join(base_path, '0000fbd0-7.png')\n",
    "x = predict_x(file_path)"
   ]
  },
  {
   "cell_type": "code",
   "execution_count": 63,
   "metadata": {},
   "outputs": [
    {
     "name": "stdout",
     "output_type": "stream",
     "text": [
      "[0.14433503 0.08271655 0.11400624 0.08556397 0.06094685 0.06335928\n",
      " 0.03863635 0.06287009 0.23881559 0.10874997]\n",
      "[8]\n"
     ]
    },
    {
     "data": {
      "image/png": "[encoded data removed]",
      "text/plain": [
       "<Figure size 72x72 with 1 Axes>"
      ]
     },
     "metadata": {
      "needs_background": "light"
     },
     "output_type": "display_data"
    }
   ],
   "source": [
    "file_path = os.path.join(base_path, '0000fbd0-29.png')\n",
    "x = predict_x(file_path)"
   ]
  },
  {
   "cell_type": "code",
   "execution_count": 64,
   "metadata": {},
   "outputs": [
    {
     "name": "stdout",
     "output_type": "stream",
     "text": [
      "[0.03223212 0.03767716 0.01495203 0.00621882 0.08778854 0.12832056\n",
      " 0.22764008 0.01858189 0.40907207 0.03751675]\n",
      "[8]\n"
     ]
    },
    {
     "data": {
      "image/png": "[encoded data removed]",
      "text/plain": [
       "<Figure size 72x72 with 1 Axes>"
      ]
     },
     "metadata": {
      "needs_background": "light"
     },
     "output_type": "display_data"
    }
   ],
   "source": [
    "file_path = os.path.join(base_path, '00000fc0-25.png')\n",
    "x = predict_x(file_path)"
   ]
  },
  {
   "cell_type": "code",
   "execution_count": 65,
   "metadata": {},
   "outputs": [
    {
     "name": "stdout",
     "output_type": "stream",
     "text": [
      "[0.02263007 0.09966204 0.36097252 0.02603878 0.0347583  0.0138692\n",
      " 0.02441822 0.08347426 0.29972622 0.0344504 ]\n",
      "[2]\n"
     ]
    },
    {
     "data": {
      "image/png": "[encoded data removed]",
      "text/plain": [
       "<Figure size 72x72 with 1 Axes>"
      ]
     },
     "metadata": {
      "needs_background": "light"
     },
     "output_type": "display_data"
    }
   ],
   "source": [
    "file_path = os.path.join(base_path, '00000fc0-24.png')\n",
    "x = predict_x(file_path)"
   ]
  },
  {
   "cell_type": "code",
   "execution_count": 66,
   "metadata": {},
   "outputs": [
    {
     "name": "stdout",
     "output_type": "stream",
     "text": [
      "[0.19104382 0.10928512 0.09156808 0.05390405 0.13270926 0.06039285\n",
      " 0.07591713 0.07745384 0.1219444  0.0857814 ]\n",
      "[0]\n"
     ]
    },
    {
     "data": {
      "image/png": "[encoded data removed]",
      "text/plain": [
       "<Figure size 72x72 with 1 Axes>"
      ]
     },
     "metadata": {
      "needs_background": "light"
     },
     "output_type": "display_data"
    }
   ],
   "source": [
    "file_path = os.path.join(base_path, '0000fde0-6.png')\n",
    "x = predict_x(file_path)"
   ]
  },
  {
   "cell_type": "code",
   "execution_count": 67,
   "metadata": {},
   "outputs": [
    {
     "name": "stdout",
     "output_type": "stream",
     "text": [
      "[0.0455451  0.1555618  0.15188581 0.14320163 0.04533886 0.07165197\n",
      " 0.04838192 0.07288063 0.17969057 0.0858617 ]\n",
      "[8]\n"
     ]
    },
    {
     "data": {
      "image/png": "[encoded data removed]",
      "text/plain": [
       "<Figure size 72x72 with 1 Axes>"
      ]
     },
     "metadata": {
      "needs_background": "light"
     },
     "output_type": "display_data"
    }
   ],
   "source": [
    "file_path = os.path.join(base_path, '0000ff20-25.png')\n",
    "x = predict_x(file_path)"
   ]
  },
  {
   "cell_type": "code",
   "execution_count": 68,
   "metadata": {},
   "outputs": [
    {
     "name": "stdout",
     "output_type": "stream",
     "text": [
      "[0.10240673 0.12142643 0.09675253 0.08876797 0.09435862 0.09296267\n",
      " 0.09053646 0.1134024  0.09754581 0.10184043]\n",
      "[1]\n"
     ]
    },
    {
     "data": {
      "image/png": "[encoded data removed]",
      "text/plain": [
       "<Figure size 72x72 with 1 Axes>"
      ]
     },
     "metadata": {
      "needs_background": "light"
     },
     "output_type": "display_data"
    }
   ],
   "source": [
    "file_path = os.path.join(base_path, '0001adf0-1.png')\n",
    "x = predict_x(file_path)"
   ]
  },
  {
   "cell_type": "code",
   "execution_count": 69,
   "metadata": {},
   "outputs": [
    {
     "name": "stdout",
     "output_type": "stream",
     "text": [
      "[0.10424549 0.11913114 0.09480672 0.0896175  0.09513602 0.09332078\n",
      " 0.0909491  0.11368633 0.09719431 0.10191264]\n",
      "[1]\n",
      "[0.05103267 0.05660308 0.03408302 0.05172778 0.0777982  0.3427037\n",
      " 0.10996819 0.06464733 0.10146639 0.10996966]\n",
      "[5]\n"
     ]
    },
    {
     "data": {
      "image/png": "[encoded data removed]",
      "text/plain": [
       "<Figure size 72x72 with 1 Axes>"
      ]
     },
     "metadata": {
      "needs_background": "light"
     },
     "output_type": "display_data"
    },
    {
     "data": {
      "image/png": "[encoded data removed]",
      "text/plain": [
       "<Figure size 72x72 with 1 Axes>"
      ]
     },
     "metadata": {
      "needs_background": "light"
     },
     "output_type": "display_data"
    }
   ],
   "source": [
    "file_path = os.path.join(base_path, '0001adf0-28.png')\n",
    "x = predict_x(file_path)\n",
    "\n",
    "file_path = os.path.join(base_path, '0001adf0-29.png')\n",
    "x = predict_x(file_path)"
   ]
  },
  {
   "cell_type": "code",
   "execution_count": null,
   "metadata": {},
   "outputs": [],
   "source": []
  },
  {
   "cell_type": "code",
   "execution_count": null,
   "metadata": {},
   "outputs": [],
   "source": []
  }
 ],
 "metadata": {
  "kernelspec": {
   "display_name": "Python 3",
   "language": "python",
   "name": "python3"
  },
  "language_info": {
   "codemirror_mode": {
    "name": "ipython",
    "version": 3
   },
   "file_extension": ".py",
   "mimetype": "text/x-python",
   "name": "python",
   "nbconvert_exporter": "python",
   "pygments_lexer": "ipython3",
   "version": "3.7.2"
  }
 },
 "nbformat": 4,
 "nbformat_minor": 2
}
